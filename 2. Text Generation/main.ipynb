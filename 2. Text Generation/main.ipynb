{
 "cells": [
  {
   "cell_type": "code",
   "execution_count": 23,
   "metadata": {},
   "outputs": [],
   "source": [
    "from transformers import pipeline, set_seed\n",
    "\n",
    "import textwrap\n",
    "import torch\n",
    "import numpy as np\n",
    "import matplotlib.pyplot as plt\n",
    "\n",
    "from pprint import pprint\n",
    "\n",
    "set_seed(42)"
   ]
  },
  {
   "cell_type": "code",
   "execution_count": 17,
   "metadata": {},
   "outputs": [],
   "source": [
    "with open('robert_frost.txt','r') as f:\n",
    "    poem = f.readlines()\n"
   ]
  },
  {
   "cell_type": "code",
   "execution_count": 21,
   "metadata": {},
   "outputs": [],
   "source": [
    "poem_reformatted = [line for line in poem if len(line.rstrip()) > 0]\n"
   ]
  },
  {
   "cell_type": "code",
   "execution_count": 29,
   "metadata": {},
   "outputs": [],
   "source": [
    "generator = pipeline('text-generation', model='gpt2',device=0)"
   ]
  },
  {
   "cell_type": "code",
   "execution_count": 36,
   "metadata": {},
   "outputs": [
    {
     "name": "stderr",
     "output_type": "stream",
     "text": [
      "Setting `pad_token_id` to `eos_token_id`:50256 for open-end generation.\n"
     ]
    },
    {
     "name": "stdout",
     "output_type": "stream",
     "text": [
      "-------------------------------------------\n",
      "Original Poem: And sorry I could not travel both\n",
      "\n",
      "-------------------------------------------\n",
      "[{'generated_text': 'And sorry I could not travel both\\n'\n",
      "                    '\\n'\n",
      "                    'Up, down. Down, down. Down, down. Down, down.'},\n",
      " {'generated_text': 'And sorry I could not travel both\\n'\n",
      "                    '\\n'\n",
      "                    'I did not have the best day...\\n'\n",
      "                    '\\n'\n",
      "                    'But I can be as safe'},\n",
      " {'generated_text': 'And sorry I could not travel both\\n'\n",
      "                    '\\n'\n",
      "                    'And say goodbye to\\n'\n",
      "                    '\\n'\n",
      "                    'Hate & fear, hate &\\n'\n",
      "                    '\\n'\n",
      "                    'L'}]\n"
     ]
    }
   ],
   "source": [
    "print('-------------------------------------------')\n",
    "print('Original Poem:', poem_reformatted[1])\n",
    "print('-------------------------------------------')\n",
    "pprint(generator(poem_reformatted[1], max_length=25, num_return_sequences=3))\n"
   ]
  },
  {
   "cell_type": "code",
   "execution_count": 37,
   "metadata": {},
   "outputs": [],
   "source": [
    "def wrap_text(text):\n",
    "    return textwrap.fill(text, replace_whitespace=False,fix_sentence_endings=True)"
   ]
  },
  {
   "cell_type": "code",
   "execution_count": 40,
   "metadata": {},
   "outputs": [
    {
     "name": "stderr",
     "output_type": "stream",
     "text": [
      "Setting `pad_token_id` to `eos_token_id`:50256 for open-end generation.\n"
     ]
    },
    {
     "name": "stdout",
     "output_type": "stream",
     "text": [
      "Two roads diverged in a yellow wood,\n",
      "\n",
      "But I could not make out the\n",
      "details,\n",
      "\n",
      "One of those\n"
     ]
    }
   ],
   "source": [
    "output = generator(poem_reformatted[0], max_length=25)\n",
    "print(wrap_text(output[0]['generated_text']))"
   ]
  },
  {
   "cell_type": "code",
   "execution_count": 53,
   "metadata": {},
   "outputs": [
    {
     "name": "stderr",
     "output_type": "stream",
     "text": [
      "Setting `pad_token_id` to `eos_token_id`:50256 for open-end generation.\n"
     ]
    },
    {
     "name": "stdout",
     "output_type": "stream",
     "text": [
      "Artificial Neural Networks with attention mechanisms are used in state\n",
      "of the art machine learning algorithms.  With deep learning, the\n",
      "computer and its software can learn from experiences, and from other\n",
      "algorithms that could become similar.\n",
      "\n",
      "In fact, the problem of this\n",
      "type of algorithm is also the problem with artificial neural networks,\n",
      "which is very different from the problem of artificial neural networks\n",
      "as described above.  One problem with these devices, like the deep\n",
      "learning problems in which a computer learns from experience, is that\n",
      "they cannot\n"
     ]
    }
   ],
   "source": [
    "start = \"Artificial Neural Networks with attention mechanisms are used in state of the art machine learning algorithms\"\n",
    "\n",
    "output = generator(start,max_length=100)\n",
    "print(wrap_text(output[0]['generated_text']))"
   ]
  },
  {
   "cell_type": "code",
   "execution_count": null,
   "metadata": {},
   "outputs": [],
   "source": []
  }
 ],
 "metadata": {
  "kernelspec": {
   "display_name": "base",
   "language": "python",
   "name": "python3"
  },
  "language_info": {
   "codemirror_mode": {
    "name": "ipython",
    "version": 3
   },
   "file_extension": ".py",
   "mimetype": "text/x-python",
   "name": "python",
   "nbconvert_exporter": "python",
   "pygments_lexer": "ipython3",
   "version": "3.10.13"
  }
 },
 "nbformat": 4,
 "nbformat_minor": 2
}
